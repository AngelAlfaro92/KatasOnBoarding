{
 "cells": [
  {
   "cell_type": "markdown",
   "metadata": {},
   "source": [
    "# Ejercicio 1\n"
   ]
  },
  {
   "cell_type": "code",
   "execution_count": 7,
   "metadata": {},
   "outputs": [
    {
     "name": "stdout",
     "output_type": "stream",
     "text": [
      "hay,  8 planetas\n",
      "Pluton es el ultimo planeta\n"
     ]
    }
   ],
   "source": [
    "planetas = [\"Mercurio\", \"Venus\", \"Tierra\", \"Marte\", \"Jupier\", \"Saturno\", \"Urano\", \"Neptuno\",  ]\n",
    "print(\"hay, \", len(planetas), \"planetas\")\n",
    "\n",
    "planetas.append(\"Pluton\")\n",
    "print(planetas[-1], \"es el ultimo planeta\")"
   ]
  },
  {
   "cell_type": "markdown",
   "metadata": {},
   "source": [
    "# Ejercicio 2"
   ]
  },
  {
   "cell_type": "code",
   "execution_count": 12,
   "metadata": {},
   "outputs": [
    {
     "name": "stdout",
     "output_type": "stream",
     "text": [
      "Los planetas sercanos a Tierra\n",
      "['Mercurio', 'Venus']\n",
      "Los planetas mas lejanos al Sol son Tierra\n",
      "['Marte', 'Jupier', 'Saturno', 'Urano', 'Neptuno']\n"
     ]
    }
   ],
   "source": [
    "planetas = [\"Mercurio\", \"Venus\", \"Tierra\", \"Marte\", \"Jupier\", \"Saturno\", \"Urano\", \"Neptuno\",  ]\n",
    "NombrePlaneta = input(\"Introduce el nombre de un planeta, porfavor ingresa con letra mayuscula la primera letra del nombre del planeta: \")\n",
    "Buscar_planeta = planetas.index(NombrePlaneta)\n",
    "print(\"Los planetas sercanos a \" + NombrePlaneta)\n",
    "print(planetas[0:Buscar_planeta])\n",
    "print(\"Los planetas mas lejanos al Sol son \" + NombrePlaneta)\n",
    "print(planetas[Buscar_planeta + 1:])\n",
    "\n"
   ]
  }
 ],
 "metadata": {
  "interpreter": {
   "hash": "2be5faf79681da6f2a61fdfdd5405d65d042280f7fba6178067603e3a2925119"
  },
  "kernelspec": {
   "display_name": "Python 3.10.1 64-bit",
   "language": "python",
   "name": "python3"
  },
  "language_info": {
   "codemirror_mode": {
    "name": "ipython",
    "version": 3
   },
   "file_extension": ".py",
   "mimetype": "text/x-python",
   "name": "python",
   "nbconvert_exporter": "python",
   "pygments_lexer": "ipython3",
   "version": "3.10.1"
  },
  "orig_nbformat": 4
 },
 "nbformat": 4,
 "nbformat_minor": 2
}
