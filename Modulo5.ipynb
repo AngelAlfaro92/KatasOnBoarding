{
 "cells": [
  {
   "cell_type": "markdown",
   "metadata": {},
   "source": [
    "# Ejercicio 1 Opeeradores aritemeticos"
   ]
  },
  {
   "cell_type": "code",
   "execution_count": 14,
   "metadata": {},
   "outputs": [
    {
     "name": "stdout",
     "output_type": "stream",
     "text": [
      "628949.33\n",
      "390577.53393\n"
     ]
    }
   ],
   "source": [
    "Tierra = 149597.870\n",
    "Jupiter = 778547.200\n",
    "\n",
    "\n",
    "distancia = Jupiter - Tierra\n",
    "print (distancia)\n",
    "distancia_millas = distancia * 0.621\n",
    "print(distancia_millas)"
   ]
  },
  {
   "cell_type": "markdown",
   "metadata": {},
   "source": [
    "# Ejercicio 2\n"
   ]
  },
  {
   "cell_type": "code",
   "execution_count": 15,
   "metadata": {},
   "outputs": [
    {
     "name": "stdout",
     "output_type": "stream",
     "text": [
      "-3996928522\n",
      "-2482092612.162\n"
     ]
    }
   ],
   "source": [
    "distancia1 = int(input(\"Cual es la distancia del primer  planeta que quieres calcular?: \"))\n",
    "distancia2 = int(input(\"cual es la distancia del segundo planeta que quieers calcular?: \"))\n",
    "\n",
    "distancia_km = distancia2 - distancia1\n",
    "print(distancia_km)\n",
    "\n",
    "#Convertir de KM a MILLAS\n",
    "distancia_millas = distancia_km * 0.621\n",
    "print(distancia_millas)\n",
    "\n"
   ]
  }
 ],
 "metadata": {
  "interpreter": {
   "hash": "2be5faf79681da6f2a61fdfdd5405d65d042280f7fba6178067603e3a2925119"
  },
  "kernelspec": {
   "display_name": "Python 3.10.1 64-bit",
   "language": "python",
   "name": "python3"
  },
  "language_info": {
   "codemirror_mode": {
    "name": "ipython",
    "version": 3
   },
   "file_extension": ".py",
   "mimetype": "text/x-python",
   "name": "python",
   "nbconvert_exporter": "python",
   "pygments_lexer": "ipython3",
   "version": "3.10.1"
  },
  "orig_nbformat": 4
 },
 "nbformat": 4,
 "nbformat_minor": 2
}
